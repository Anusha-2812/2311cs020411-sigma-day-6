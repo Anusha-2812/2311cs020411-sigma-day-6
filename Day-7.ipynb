{
 "cells": [
  {
   "cell_type": "markdown",
   "id": "5c8eb1ad",
   "metadata": {},
   "source": [
    "if condition1:\n",
    "    task1 block of code\n",
    "elif condition2:\n",
    "    task2 block of code\n",
    "elif condition3:\n",
    "    task3 block of code\n",
    "else:\n",
    "    task4 block of code"
   ]
  },
  {
   "cell_type": "code",
   "execution_count": 3,
   "id": "061e58ad",
   "metadata": {},
   "outputs": [
    {
     "name": "stdout",
     "output_type": "stream",
     "text": [
      "Even\n"
     ]
    }
   ],
   "source": [
    "x=10\n",
    "if x%2==0:\n",
    "    print(\"Even\")\n",
    "else:\n",
    "    print(\"Odd\")"
   ]
  },
  {
   "cell_type": "code",
   "execution_count": 4,
   "id": "d1b6d9d1",
   "metadata": {},
   "outputs": [
    {
     "data": {
      "text/plain": [
       "'hello'"
      ]
     },
     "execution_count": 4,
     "metadata": {},
     "output_type": "execute_result"
    }
   ],
   "source": [
    "y='hello'\n",
    "y"
   ]
  },
  {
   "cell_type": "code",
   "execution_count": 5,
   "id": "52126867",
   "metadata": {},
   "outputs": [
    {
     "data": {
      "text/plain": [
       "True"
      ]
     },
     "execution_count": 5,
     "metadata": {},
     "output_type": "execute_result"
    }
   ],
   "source": [
    "y.isalpha()"
   ]
  },
  {
   "cell_type": "code",
   "execution_count": 6,
   "id": "06f9559e",
   "metadata": {},
   "outputs": [],
   "source": [
    "name='hi 123'"
   ]
  },
  {
   "cell_type": "code",
   "execution_count": 8,
   "id": "b98d942a",
   "metadata": {},
   "outputs": [
    {
     "data": {
      "text/plain": [
       "False"
      ]
     },
     "execution_count": 8,
     "metadata": {},
     "output_type": "execute_result"
    }
   ],
   "source": [
    "name.isalpha()"
   ]
  },
  {
   "cell_type": "code",
   "execution_count": 9,
   "id": "5169eaf2",
   "metadata": {},
   "outputs": [
    {
     "name": "stdout",
     "output_type": "stream",
     "text": [
      "Name should not contain digits and symbols\n"
     ]
    }
   ],
   "source": [
    "if name.isalpha()==True:\n",
    "    print(\"Accept\")\n",
    "else:\n",
    "    print('Name should not contain digits and symbols')"
   ]
  },
  {
   "cell_type": "code",
   "execution_count": 27,
   "id": "976e9baa",
   "metadata": {},
   "outputs": [
    {
     "data": {
      "text/plain": [
       "'Mumbai'"
      ]
     },
     "execution_count": 27,
     "metadata": {},
     "output_type": "execute_result"
    }
   ],
   "source": [
    "x='Mumbai'\n",
    "x"
   ]
  },
  {
   "cell_type": "code",
   "execution_count": 41,
   "id": "7f1fada8",
   "metadata": {},
   "outputs": [
    {
     "data": {
      "text/plain": [
       "'Maharastra'"
      ]
     },
     "execution_count": 41,
     "metadata": {},
     "output_type": "execute_result"
    }
   ],
   "source": [
    "x='Maharastra'\n",
    "x"
   ]
  },
  {
   "cell_type": "code",
   "execution_count": 11,
   "id": "2d1742e7",
   "metadata": {},
   "outputs": [],
   "source": [
    "x='telanga'\n",
    "x"
   ]
  },
  {
   "cell_type": "code",
   "execution_count": 42,
   "id": "03116aa0",
   "metadata": {},
   "outputs": [
    {
     "name": "stdout",
     "output_type": "stream",
     "text": [
      "true\n"
     ]
    }
   ],
   "source": [
    "if x[0].lower()=='m':#lower() is used to convert M to m\n",
    "    print('true')\n",
    "else:\n",
    "    print('wrong input')"
   ]
  },
  {
   "cell_type": "code",
   "execution_count": 46,
   "id": "583aebf2",
   "metadata": {},
   "outputs": [
    {
     "name": "stdout",
     "output_type": "stream",
     "text": [
      "true\n"
     ]
    }
   ],
   "source": [
    "x='Hyderabad'\n",
    "if x[0].lower()=='m' or 'h' or's':#lower() is used to convert M to m\n",
    "    print('true')\n",
    "else:\n",
    "    print('wrong input')"
   ]
  },
  {
   "cell_type": "code",
   "execution_count": 47,
   "id": "9f1da3dd",
   "metadata": {},
   "outputs": [
    {
     "name": "stdout",
     "output_type": "stream",
     "text": [
      "true\n"
     ]
    }
   ],
   "source": [
    "#or \n",
    "x='Hyderabad'\n",
    "if x[0].lower()=='m' or x[0].lower()=='h' or x[0].lower()=='s':#lower() is used to convert M to m\n",
    "    print('true')\n",
    "else:\n",
    "    print('wrong input')"
   ]
  },
  {
   "cell_type": "code",
   "execution_count": 48,
   "id": "66f68fdb",
   "metadata": {},
   "outputs": [
    {
     "name": "stdout",
     "output_type": "stream",
     "text": [
      "Yes\n"
     ]
    }
   ],
   "source": [
    "#or\n",
    "if x[0].lower() in ('s','h','m'):\n",
    "    print('Yes')\n",
    "else:\n",
    "    print('No')"
   ]
  },
  {
   "cell_type": "code",
   "execution_count": null,
   "id": "3a516c20",
   "metadata": {},
   "outputs": [],
   "source": []
  }
 ],
 "metadata": {
  "kernelspec": {
   "display_name": "Python 3 (ipykernel)",
   "language": "python",
   "name": "python3"
  },
  "language_info": {
   "codemirror_mode": {
    "name": "ipython",
    "version": 3
   },
   "file_extension": ".py",
   "mimetype": "text/x-python",
   "name": "python",
   "nbconvert_exporter": "python",
   "pygments_lexer": "ipython3",
   "version": "3.11.5"
  }
 },
 "nbformat": 4,
 "nbformat_minor": 5
}
